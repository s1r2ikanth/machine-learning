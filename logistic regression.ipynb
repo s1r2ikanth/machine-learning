{
 "cells": [
  {
   "cell_type": "code",
   "execution_count": 371,
   "metadata": {},
   "outputs": [],
   "source": [
    "import warnings\n",
    "warnings.filterwarnings(\"ignore\")\n",
    "import pandas as pd\n",
    "import numpy as np\n",
    "import matplotlib.pyplot as plt\n",
    "import seaborn as sns\n",
    "%matplotlib inline"
   ]
  },
  {
   "cell_type": "code",
   "execution_count": 466,
   "metadata": {},
   "outputs": [],
   "source": [
    "df = pd.read_csv(\"fertility_Diagnosis.csv\",names=[\"Season\",\"Age\",\"Child_diseases\",\"AORS\",\"Surgery\",\"fever_in_lastyear\",\"Smoking\",\"hours\",\"output\"])\n",
    "df.insert(0,\"Ones\",1)"
   ]
  },
  {
   "cell_type": "markdown",
   "metadata": {},
   "source": [
    "##### Data Set Information:\n",
    "\n",
    "Provide all relevant information about your data set.\n",
    "\n",
    "\n",
    "##### Attribute Information:\n",
    "\n",
    "Season in which the analysis was performed. 1) winter, 2) spring, 3) Summer, 4) fall. (-1, -0.33, 0.33, 1) \n",
    "\n",
    "Age at the time of analysis. 18-36 (0, 1) \n",
    "\n",
    "Childish diseases (ie , chicken pox, measles, mumps, polio)\t1) yes, 2) no. (0, 1) \n",
    "\n",
    "Accident or serious trauma 1) yes, 2) no. (0, 1) \n",
    "\n",
    "Surgical intervention 1) yes, 2) no. (0, 1) \n",
    "\n",
    "High fevers in the last year 1) less than three months ago, 2) more than three months ago, 3) no. (-1, 0, 1) \n",
    "\n",
    "Frequency of alcohol consumption 1) several times a day, 2) every day, 3) several times a week, 4) once a week, 5) hardly ever or never (0, 1) \n",
    "\n",
    "Smoking habit 1) never, 2) occasional 3) daily. (-1, 0, 1) \n",
    "\n",
    "Number of hours spent sitting per day ene-16\t(0, 1) \n",
    "\n",
    "Output: Diagnosis\tnormal (N), altered (O)\t"
   ]
  },
  {
   "cell_type": "code",
   "execution_count": 467,
   "metadata": {},
   "outputs": [
    {
     "data": {
      "text/html": [
       "<div>\n",
       "<style scoped>\n",
       "    .dataframe tbody tr th:only-of-type {\n",
       "        vertical-align: middle;\n",
       "    }\n",
       "\n",
       "    .dataframe tbody tr th {\n",
       "        vertical-align: top;\n",
       "    }\n",
       "\n",
       "    .dataframe thead th {\n",
       "        text-align: right;\n",
       "    }\n",
       "</style>\n",
       "<table border=\"1\" class=\"dataframe\">\n",
       "  <thead>\n",
       "    <tr style=\"text-align: right;\">\n",
       "      <th></th>\n",
       "      <th>Ones</th>\n",
       "      <th>Season</th>\n",
       "      <th>Age</th>\n",
       "      <th>Child_diseases</th>\n",
       "      <th>AORS</th>\n",
       "      <th>Surgery</th>\n",
       "      <th>fever_in_lastyear</th>\n",
       "      <th>Smoking</th>\n",
       "      <th>hours</th>\n",
       "      <th>output</th>\n",
       "    </tr>\n",
       "  </thead>\n",
       "  <tbody>\n",
       "    <tr>\n",
       "      <th>-0.33</th>\n",
       "      <td>1</td>\n",
       "      <td>0.69</td>\n",
       "      <td>0</td>\n",
       "      <td>1</td>\n",
       "      <td>1</td>\n",
       "      <td>0</td>\n",
       "      <td>0.8</td>\n",
       "      <td>0</td>\n",
       "      <td>0.88</td>\n",
       "      <td>N</td>\n",
       "    </tr>\n",
       "    <tr>\n",
       "      <th>-0.33</th>\n",
       "      <td>1</td>\n",
       "      <td>0.94</td>\n",
       "      <td>1</td>\n",
       "      <td>0</td>\n",
       "      <td>1</td>\n",
       "      <td>0</td>\n",
       "      <td>0.8</td>\n",
       "      <td>1</td>\n",
       "      <td>0.31</td>\n",
       "      <td>O</td>\n",
       "    </tr>\n",
       "    <tr>\n",
       "      <th>-0.33</th>\n",
       "      <td>1</td>\n",
       "      <td>0.50</td>\n",
       "      <td>1</td>\n",
       "      <td>0</td>\n",
       "      <td>0</td>\n",
       "      <td>0</td>\n",
       "      <td>1.0</td>\n",
       "      <td>-1</td>\n",
       "      <td>0.50</td>\n",
       "      <td>N</td>\n",
       "    </tr>\n",
       "    <tr>\n",
       "      <th>-0.33</th>\n",
       "      <td>1</td>\n",
       "      <td>0.75</td>\n",
       "      <td>0</td>\n",
       "      <td>1</td>\n",
       "      <td>1</td>\n",
       "      <td>0</td>\n",
       "      <td>1.0</td>\n",
       "      <td>-1</td>\n",
       "      <td>0.38</td>\n",
       "      <td>N</td>\n",
       "    </tr>\n",
       "    <tr>\n",
       "      <th>-0.33</th>\n",
       "      <td>1</td>\n",
       "      <td>0.67</td>\n",
       "      <td>1</td>\n",
       "      <td>1</td>\n",
       "      <td>0</td>\n",
       "      <td>0</td>\n",
       "      <td>0.8</td>\n",
       "      <td>-1</td>\n",
       "      <td>0.50</td>\n",
       "      <td>O</td>\n",
       "    </tr>\n",
       "  </tbody>\n",
       "</table>\n",
       "</div>"
      ],
      "text/plain": [
       "       Ones  Season  Age  Child_diseases  AORS  Surgery  fever_in_lastyear  \\\n",
       "-0.33     1    0.69    0               1     1        0                0.8   \n",
       "-0.33     1    0.94    1               0     1        0                0.8   \n",
       "-0.33     1    0.50    1               0     0        0                1.0   \n",
       "-0.33     1    0.75    0               1     1        0                1.0   \n",
       "-0.33     1    0.67    1               1     0        0                0.8   \n",
       "\n",
       "       Smoking  hours output  \n",
       "-0.33        0   0.88      N  \n",
       "-0.33        1   0.31      O  \n",
       "-0.33       -1   0.50      N  \n",
       "-0.33       -1   0.38      N  \n",
       "-0.33       -1   0.50      O  "
      ]
     },
     "execution_count": 467,
     "metadata": {},
     "output_type": "execute_result"
    }
   ],
   "source": [
    "df.head()"
   ]
  },
  {
   "cell_type": "code",
   "execution_count": 469,
   "metadata": {},
   "outputs": [],
   "source": [
    "from sklearn.preprocessing import LabelEncoder\n",
    "le_df=LabelEncoder()\n",
    "df[\"output\"]=le_df.fit_transform(df[\"output\"])"
   ]
  },
  {
   "cell_type": "code",
   "execution_count": 470,
   "metadata": {},
   "outputs": [
    {
     "data": {
      "text/plain": [
       "Ones                 0\n",
       "Season               0\n",
       "Age                  0\n",
       "Child_diseases       0\n",
       "AORS                 0\n",
       "Surgery              0\n",
       "fever_in_lastyear    0\n",
       "Smoking              0\n",
       "hours                0\n",
       "output               0\n",
       "dtype: int64"
      ]
     },
     "execution_count": 470,
     "metadata": {},
     "output_type": "execute_result"
    }
   ],
   "source": [
    "df.isnull().sum()"
   ]
  },
  {
   "cell_type": "code",
   "execution_count": 471,
   "metadata": {},
   "outputs": [
    {
     "data": {
      "text/plain": [
       "(100, 10)"
      ]
     },
     "execution_count": 471,
     "metadata": {},
     "output_type": "execute_result"
    }
   ],
   "source": [
    "df.shape"
   ]
  },
  {
   "cell_type": "code",
   "execution_count": null,
   "metadata": {},
   "outputs": [],
   "source": []
  },
  {
   "cell_type": "code",
   "execution_count": 473,
   "metadata": {},
   "outputs": [
    {
     "data": {
      "text/html": [
       "<div>\n",
       "<style scoped>\n",
       "    .dataframe tbody tr th:only-of-type {\n",
       "        vertical-align: middle;\n",
       "    }\n",
       "\n",
       "    .dataframe tbody tr th {\n",
       "        vertical-align: top;\n",
       "    }\n",
       "\n",
       "    .dataframe thead th {\n",
       "        text-align: right;\n",
       "    }\n",
       "</style>\n",
       "<table border=\"1\" class=\"dataframe\">\n",
       "  <thead>\n",
       "    <tr style=\"text-align: right;\">\n",
       "      <th></th>\n",
       "      <th>Ones</th>\n",
       "      <th>Season</th>\n",
       "      <th>Age</th>\n",
       "      <th>Child_diseases</th>\n",
       "      <th>AORS</th>\n",
       "      <th>Surgery</th>\n",
       "      <th>fever_in_lastyear</th>\n",
       "      <th>Smoking</th>\n",
       "      <th>hours</th>\n",
       "      <th>output</th>\n",
       "    </tr>\n",
       "  </thead>\n",
       "  <tbody>\n",
       "    <tr>\n",
       "      <th>Ones</th>\n",
       "      <td>NaN</td>\n",
       "      <td>NaN</td>\n",
       "      <td>NaN</td>\n",
       "      <td>NaN</td>\n",
       "      <td>NaN</td>\n",
       "      <td>NaN</td>\n",
       "      <td>NaN</td>\n",
       "      <td>NaN</td>\n",
       "      <td>NaN</td>\n",
       "      <td>NaN</td>\n",
       "    </tr>\n",
       "    <tr>\n",
       "      <th>Season</th>\n",
       "      <td>NaN</td>\n",
       "      <td>1.000000</td>\n",
       "      <td>0.080551</td>\n",
       "      <td>0.215958</td>\n",
       "      <td>0.271945</td>\n",
       "      <td>0.120284</td>\n",
       "      <td>-0.247940</td>\n",
       "      <td>0.072581</td>\n",
       "      <td>-0.442452</td>\n",
       "      <td>0.115229</td>\n",
       "    </tr>\n",
       "    <tr>\n",
       "      <th>Age</th>\n",
       "      <td>NaN</td>\n",
       "      <td>0.080551</td>\n",
       "      <td>1.000000</td>\n",
       "      <td>0.162936</td>\n",
       "      <td>-0.140972</td>\n",
       "      <td>0.075645</td>\n",
       "      <td>0.038538</td>\n",
       "      <td>0.090535</td>\n",
       "      <td>-0.147761</td>\n",
       "      <td>-0.040261</td>\n",
       "    </tr>\n",
       "    <tr>\n",
       "      <th>Child_diseases</th>\n",
       "      <td>NaN</td>\n",
       "      <td>0.215958</td>\n",
       "      <td>0.162936</td>\n",
       "      <td>1.000000</td>\n",
       "      <td>0.103166</td>\n",
       "      <td>-0.082278</td>\n",
       "      <td>-0.242722</td>\n",
       "      <td>0.110157</td>\n",
       "      <td>0.013122</td>\n",
       "      <td>-0.141346</td>\n",
       "    </tr>\n",
       "    <tr>\n",
       "      <th>AORS</th>\n",
       "      <td>NaN</td>\n",
       "      <td>0.271945</td>\n",
       "      <td>-0.140972</td>\n",
       "      <td>0.103166</td>\n",
       "      <td>1.000000</td>\n",
       "      <td>-0.231598</td>\n",
       "      <td>-0.075858</td>\n",
       "      <td>-0.053448</td>\n",
       "      <td>-0.192726</td>\n",
       "      <td>0.054171</td>\n",
       "    </tr>\n",
       "    <tr>\n",
       "      <th>Surgery</th>\n",
       "      <td>NaN</td>\n",
       "      <td>0.120284</td>\n",
       "      <td>0.075645</td>\n",
       "      <td>-0.082278</td>\n",
       "      <td>-0.231598</td>\n",
       "      <td>1.000000</td>\n",
       "      <td>-0.000831</td>\n",
       "      <td>-0.007527</td>\n",
       "      <td>-0.151091</td>\n",
       "      <td>-0.121421</td>\n",
       "    </tr>\n",
       "    <tr>\n",
       "      <th>fever_in_lastyear</th>\n",
       "      <td>NaN</td>\n",
       "      <td>-0.247940</td>\n",
       "      <td>0.038538</td>\n",
       "      <td>-0.242722</td>\n",
       "      <td>-0.075858</td>\n",
       "      <td>-0.000831</td>\n",
       "      <td>1.000000</td>\n",
       "      <td>-0.184926</td>\n",
       "      <td>0.111371</td>\n",
       "      <td>-0.144760</td>\n",
       "    </tr>\n",
       "    <tr>\n",
       "      <th>Smoking</th>\n",
       "      <td>NaN</td>\n",
       "      <td>0.072581</td>\n",
       "      <td>0.090535</td>\n",
       "      <td>0.110157</td>\n",
       "      <td>-0.053448</td>\n",
       "      <td>-0.007527</td>\n",
       "      <td>-0.184926</td>\n",
       "      <td>1.000000</td>\n",
       "      <td>-0.106007</td>\n",
       "      <td>0.045891</td>\n",
       "    </tr>\n",
       "    <tr>\n",
       "      <th>hours</th>\n",
       "      <td>NaN</td>\n",
       "      <td>-0.442452</td>\n",
       "      <td>-0.147761</td>\n",
       "      <td>0.013122</td>\n",
       "      <td>-0.192726</td>\n",
       "      <td>-0.151091</td>\n",
       "      <td>0.111371</td>\n",
       "      <td>-0.106007</td>\n",
       "      <td>1.000000</td>\n",
       "      <td>0.022964</td>\n",
       "    </tr>\n",
       "    <tr>\n",
       "      <th>output</th>\n",
       "      <td>NaN</td>\n",
       "      <td>0.115229</td>\n",
       "      <td>-0.040261</td>\n",
       "      <td>-0.141346</td>\n",
       "      <td>0.054171</td>\n",
       "      <td>-0.121421</td>\n",
       "      <td>-0.144760</td>\n",
       "      <td>0.045891</td>\n",
       "      <td>0.022964</td>\n",
       "      <td>1.000000</td>\n",
       "    </tr>\n",
       "  </tbody>\n",
       "</table>\n",
       "</div>"
      ],
      "text/plain": [
       "                   Ones    Season       Age  Child_diseases      AORS  \\\n",
       "Ones                NaN       NaN       NaN             NaN       NaN   \n",
       "Season              NaN  1.000000  0.080551        0.215958  0.271945   \n",
       "Age                 NaN  0.080551  1.000000        0.162936 -0.140972   \n",
       "Child_diseases      NaN  0.215958  0.162936        1.000000  0.103166   \n",
       "AORS                NaN  0.271945 -0.140972        0.103166  1.000000   \n",
       "Surgery             NaN  0.120284  0.075645       -0.082278 -0.231598   \n",
       "fever_in_lastyear   NaN -0.247940  0.038538       -0.242722 -0.075858   \n",
       "Smoking             NaN  0.072581  0.090535        0.110157 -0.053448   \n",
       "hours               NaN -0.442452 -0.147761        0.013122 -0.192726   \n",
       "output              NaN  0.115229 -0.040261       -0.141346  0.054171   \n",
       "\n",
       "                    Surgery  fever_in_lastyear   Smoking     hours    output  \n",
       "Ones                    NaN                NaN       NaN       NaN       NaN  \n",
       "Season             0.120284          -0.247940  0.072581 -0.442452  0.115229  \n",
       "Age                0.075645           0.038538  0.090535 -0.147761 -0.040261  \n",
       "Child_diseases    -0.082278          -0.242722  0.110157  0.013122 -0.141346  \n",
       "AORS              -0.231598          -0.075858 -0.053448 -0.192726  0.054171  \n",
       "Surgery            1.000000          -0.000831 -0.007527 -0.151091 -0.121421  \n",
       "fever_in_lastyear -0.000831           1.000000 -0.184926  0.111371 -0.144760  \n",
       "Smoking           -0.007527          -0.184926  1.000000 -0.106007  0.045891  \n",
       "hours             -0.151091           0.111371 -0.106007  1.000000  0.022964  \n",
       "output            -0.121421          -0.144760  0.045891  0.022964  1.000000  "
      ]
     },
     "execution_count": 473,
     "metadata": {},
     "output_type": "execute_result"
    }
   ],
   "source": [
    "df.corr()"
   ]
  },
  {
   "cell_type": "code",
   "execution_count": 474,
   "metadata": {},
   "outputs": [
    {
     "data": {
      "text/plain": [
       "<matplotlib.axes._subplots.AxesSubplot at 0x2819a6b83c8>"
      ]
     },
     "execution_count": 474,
     "metadata": {},
     "output_type": "execute_result"
    },
    {
     "data": {
      "image/png": "[encoded data removed]",
      "text/plain": [
       "<Figure size 720x576 with 2 Axes>"
      ]
     },
     "metadata": {
      "needs_background": "light"
     },
     "output_type": "display_data"
    }
   ],
   "source": [
    "plt.figure(figsize=(10,8))\n",
    "sns.heatmap(df.corr(),annot=True)"
   ]
  },
  {
   "cell_type": "markdown",
   "metadata": {},
   "source": [
    "#### Allocating attributes and lables for the data"
   ]
  },
  {
   "cell_type": "code",
   "execution_count": null,
   "metadata": {},
   "outputs": [],
   "source": [
    "X=df.iloc[:,:-1]\n",
    "Y=df.iloc[:,-1]"
   ]
  },
  {
   "cell_type": "markdown",
   "metadata": {},
   "source": [
    "#### Training ,Testing and Splitting our data"
   ]
  },
  {
   "cell_type": "code",
   "execution_count": 502,
   "metadata": {},
   "outputs": [],
   "source": [
    "from sklearn.model_selection import train_test_split\n",
    "x_train,x_test,y_train,y_test=train_test_split(X,Y,test_size=0.30)"
   ]
  },
  {
   "cell_type": "markdown",
   "metadata": {},
   "source": [
    "#### converting  x_train,y_train values to numpy array"
   ]
  },
  {
   "cell_type": "code",
   "execution_count": 503,
   "metadata": {},
   "outputs": [],
   "source": [
    "X=np.array(x_train.values)\n",
    "Y=np.array(y_train.values)"
   ]
  },
  {
   "cell_type": "markdown",
   "metadata": {},
   "source": [
    "#### For this data i am using Logistic Regression \n",
    "#### for this data thier is no need of standar scalar beacuse all data points in the dataset are ranges in between 0 to 1"
   ]
  },
  {
   "cell_type": "code",
   "execution_count": 504,
   "metadata": {},
   "outputs": [],
   "source": [
    "from sklearn.linear_model import LogisticRegression\n",
    "model=LogisticRegression()"
   ]
  },
  {
   "cell_type": "markdown",
   "metadata": {},
   "source": [
    "##### training our model with x_train,y_train data"
   ]
  },
  {
   "cell_type": "code",
   "execution_count": 505,
   "metadata": {},
   "outputs": [
    {
     "data": {
      "text/plain": [
       "LogisticRegression(C=1.0, class_weight=None, dual=False, fit_intercept=True,\n",
       "          intercept_scaling=1, max_iter=100, multi_class='warn',\n",
       "          n_jobs=None, penalty='l2', random_state=None, solver='warn',\n",
       "          tol=0.0001, verbose=0, warm_start=False)"
      ]
     },
     "execution_count": 505,
     "metadata": {},
     "output_type": "execute_result"
    }
   ],
   "source": [
    "model.fit(x_train,y_train)"
   ]
  },
  {
   "cell_type": "code",
   "execution_count": 506,
   "metadata": {},
   "outputs": [],
   "source": [
    "y_predict=model.predict(x_test)\n",
    "y_test=np.array(y_test)"
   ]
  },
  {
   "cell_type": "markdown",
   "metadata": {},
   "source": [
    "##### Accuracy of the model"
   ]
  },
  {
   "cell_type": "code",
   "execution_count": 574,
   "metadata": {},
   "outputs": [
    {
     "name": "stdout",
     "output_type": "stream",
     "text": [
      "accuracy: 90.0\n"
     ]
    }
   ],
   "source": [
    "c=0\n",
    "for i in range(len(y_predict)):\n",
    "    \n",
    "    if y_test[i]==y_predict[i]:\n",
    "        c=c+1\n",
    "print(\"accuracy:\",c*100/len(y_predict))\n"
   ]
  },
  {
   "cell_type": "markdown",
   "metadata": {},
   "source": [
    "#### Confusion matrix of our model"
   ]
  },
  {
   "cell_type": "code",
   "execution_count": 508,
   "metadata": {},
   "outputs": [],
   "source": [
    "from sklearn.metrics import confusion_matrix\n",
    "c=confusion_matrix(y_test,y_predict)"
   ]
  },
  {
   "cell_type": "code",
   "execution_count": 509,
   "metadata": {},
   "outputs": [
    {
     "data": {
      "text/plain": [
       "<matplotlib.axes._subplots.AxesSubplot at 0x2819a9fc2b0>"
      ]
     },
     "execution_count": 509,
     "metadata": {},
     "output_type": "execute_result"
    },
    {
     "data": {
      "image/png": "[encoded data removed]",
      "text/plain": [
       "<Figure size 432x288 with 2 Axes>"
      ]
     },
     "metadata": {
      "needs_background": "light"
     },
     "output_type": "display_data"
    }
   ],
   "source": [
    "sns.heatmap(c,annot=True)"
   ]
  },
  {
   "cell_type": "markdown",
   "metadata": {},
   "source": [
    "#### Logistic Regression From Scratch"
   ]
  },
  {
   "cell_type": "markdown",
   "metadata": {},
   "source": [
    "#### converting x_train,y_train values in matrix form "
   ]
  },
  {
   "cell_type": "code",
   "execution_count": 667,
   "metadata": {},
   "outputs": [
    {
     "data": {
      "text/plain": [
       "((70, 9), (1, 70))"
      ]
     },
     "execution_count": 667,
     "metadata": {},
     "output_type": "execute_result"
    }
   ],
   "source": [
    "X=np.matrix(np.array(x_train.values))\n",
    "Y=np.matrix(np.array(y_train.values))\n",
    "X.shape,Y.shape"
   ]
  },
  {
   "cell_type": "markdown",
   "metadata": {},
   "source": [
    "#### Parameters which we are assuming as theta parameters taken based on number of attributes in x_train"
   ]
  },
  {
   "cell_type": "code",
   "execution_count": null,
   "metadata": {},
   "outputs": [],
   "source": [
    "theta=np.matrix(np.zeros(x_train.shape[1]))"
   ]
  },
  {
   "cell_type": "markdown",
   "metadata": {},
   "source": [
    "#### Sigmoid Function"
   ]
  },
  {
   "cell_type": "code",
   "execution_count": 512,
   "metadata": {},
   "outputs": [],
   "source": [
    "def sigmoid(X,theta):\n",
    "        z=X*theta.T\n",
    "        return 1/(1+np.exp(-z))"
   ]
  },
  {
   "cell_type": "markdown",
   "metadata": {},
   "source": [
    "#### CostFunction : helps to find the best parameters"
   ]
  },
  {
   "cell_type": "code",
   "execution_count": 661,
   "metadata": {},
   "outputs": [],
   "source": [
    "def CostFunction(X,Y,theta):\n",
    "    m=X.shape[0]\n",
    "    t=sigmoid(X,theta)\n",
    "    total_cost=-np.sum(np.multiply(Y,np.log(t))+np.multiply((1-Y),np.log(1-t)))/len(Y)\n",
    "    return total_cost"
   ]
  },
  {
   "cell_type": "code",
   "execution_count": 662,
   "metadata": {},
   "outputs": [
    {
     "data": {
      "text/plain": [
       "3396.421184743732"
      ]
     },
     "execution_count": 662,
     "metadata": {},
     "output_type": "execute_result"
    }
   ],
   "source": [
    "CostFunction(X,Y,theta)"
   ]
  },
  {
   "cell_type": "markdown",
   "metadata": {},
   "source": [
    "#### Gradient Descent :  decreases the cost function"
   ]
  },
  {
   "cell_type": "code",
   "execution_count": 663,
   "metadata": {},
   "outputs": [],
   "source": [
    "def GradientDescent(X,Y,theta,iters,alpha):\n",
    "    temp=np.matrix(np.zeros(theta.shape[1]))\n",
    "    m=len(X)\n",
    "    parameters=int(theta.shape[1])\n",
    "    cost=np.zeros(iters)\n",
    "    for i in range(iters):\n",
    "        error=(sigmoid(X,theta)-Y)\n",
    "        for j in range(parameters):\n",
    "            term=np.multiply(error,X[:,j])\n",
    "            temp[:,j]=temp[:,j]-((alpha/m)*np.sum(term))\n",
    "        theta=temp\n",
    "        cost[i]=CostFunction(X,Y,theta)\n",
    "        \n",
    "    return theta,cost\n",
    "        \n",
    "    "
   ]
  },
  {
   "cell_type": "code",
   "execution_count": 664,
   "metadata": {},
   "outputs": [],
   "source": [
    "alpha=0.02\n",
    "iters=400\n",
    "t,c=GradientDescent(X,Y,theta,iters,alpha)"
   ]
  },
  {
   "cell_type": "code",
   "execution_count": 665,
   "metadata": {},
   "outputs": [
    {
     "data": {
      "text/plain": [
       "1881.3129639352028"
      ]
     },
     "execution_count": 665,
     "metadata": {},
     "output_type": "execute_result"
    }
   ],
   "source": [
    "CostFunction(X,Y,t)"
   ]
  },
  {
   "cell_type": "markdown",
   "metadata": {},
   "source": [
    "#### here i have taken 400 iteration you can observe clearly how the cost function is decreasing for every iteration"
   ]
  },
  {
   "cell_type": "code",
   "execution_count": 657,
   "metadata": {},
   "outputs": [
    {
     "data": {
      "text/plain": [
       "[<matplotlib.lines.Line2D at 0x2819c5148d0>]"
      ]
     },
     "execution_count": 657,
     "metadata": {},
     "output_type": "execute_result"
    },
    {
     "data": {
      "image/png": "[encoded data removed]",
      "text/plain": [
       "<Figure size 432x288 with 1 Axes>"
      ]
     },
     "metadata": {
      "needs_background": "light"
     },
     "output_type": "display_data"
    }
   ],
   "source": [
    "plt.plot(np.arange(iters),c)"
   ]
  },
  {
   "cell_type": "markdown",
   "metadata": {},
   "source": [
    "#### Predict the x_test values"
   ]
  },
  {
   "cell_type": "code",
   "execution_count": 658,
   "metadata": {},
   "outputs": [],
   "source": [
    "def predicted(x_test,t):\n",
    "    predict=sigmoid(x_test,t)\n",
    "    \n",
    "    return [1 if x>0.5 else 0 for x in predict]"
   ]
  },
  {
   "cell_type": "code",
   "execution_count": 659,
   "metadata": {},
   "outputs": [],
   "source": [
    "x_test=np.matrix(np.array(x_test))\n",
    "y_predict=predicted(x_test,t)"
   ]
  },
  {
   "cell_type": "markdown",
   "metadata": {},
   "source": [
    "#### Below you can find accuracy of our model"
   ]
  },
  {
   "cell_type": "code",
   "execution_count": 660,
   "metadata": {},
   "outputs": [
    {
     "name": "stdout",
     "output_type": "stream",
     "text": [
      "accuracy: 90.0\n"
     ]
    }
   ],
   "source": [
    "c1=0\n",
    "for i in range(len(y_predict)):\n",
    "    \n",
    "    if y_test[i]==y_predict[i]:\n",
    "        c1=c1+1\n",
    "print(\"accuracy:\",c1*100/len(y_predict))"
   ]
  },
  {
   "cell_type": "code",
   "execution_count": 673,
   "metadata": {},
   "outputs": [
    {
     "data": {
      "text/plain": [
       "90.0"
      ]
     },
     "execution_count": 673,
     "metadata": {},
     "output_type": "execute_result"
    }
   ],
   "source": [
    "from sklearn.metrics import accuracy_score\n",
    "accuracy_score(y_test,y_predict)*100"
   ]
  },
  {
   "cell_type": "code",
   "execution_count": 668,
   "metadata": {},
   "outputs": [],
   "source": [
    "from sklearn.metrics import confusion_matrix\n",
    "c=confusion_matrix(y_test,y_predict)"
   ]
  },
  {
   "cell_type": "code",
   "execution_count": 670,
   "metadata": {},
   "outputs": [
    {
     "data": {
      "text/plain": [
       "<matplotlib.axes._subplots.AxesSubplot at 0x2819c5b9048>"
      ]
     },
     "execution_count": 670,
     "metadata": {},
     "output_type": "execute_result"
    },
    {
     "data": {
      "image/png": "[encoded data removed]",
      "text/plain": [
       "<Figure size 432x288 with 2 Axes>"
      ]
     },
     "metadata": {
      "needs_background": "light"
     },
     "output_type": "display_data"
    }
   ],
   "source": [
    "sns.heatmap(c,annot=True)"
   ]
  },
  {
   "cell_type": "code",
   "execution_count": null,
   "metadata": {},
   "outputs": [],
   "source": []
  }
 ],
 "metadata": {
  "kernelspec": {
   "display_name": "Python 3",
   "language": "python",
   "name": "python3"
  },
  "language_info": {
   "codemirror_mode": {
    "name": "ipython",
    "version": 3
   },
   "file_extension": ".py",
   "mimetype": "text/x-python",
   "name": "python",
   "nbconvert_exporter": "python",
   "pygments_lexer": "ipython3",
   "version": "3.7.1"
  }
 },
 "nbformat": 4,
 "nbformat_minor": 2
}
